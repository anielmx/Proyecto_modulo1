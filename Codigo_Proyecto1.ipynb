{
 "cells": [
  {
   "cell_type": "code",
   "execution_count": 1,
   "metadata": {
    "collapsed": true
   },
   "outputs": [],
   "source": [
    "import numpy as np\n",
    "from scipy.optimize import linprog\n",
    "from numpy.linalg import solve\n",
    "import scipy.optimize as opt\n",
    "import matplotlib.pyplot as plt\n",
    "%matplotlib inline"
   ]
  },
  {
   "cell_type": "code",
   "execution_count": 2,
   "metadata": {
    "collapsed": true
   },
   "outputs": [],
   "source": [
    "A= np.array([\n",
    "             [-10,-7,-8,-6,-7,-5,-10,-8,-7,-100],\n",
    "             [-10,-7,-8,-6,-7,-5,-10,-8,-107,0],\n",
    "             [-10,-7,-8,-6,-7,-5,-110,-108,0,0],\n",
    "             [-10,-7,-8,-6,-7,-105,0,0,0,0],\n",
    "             [-10,-7,-8,-106,-107,0,0,0,0,0],\n",
    "             [-110,-107,-108,-0,0,0,0,0,0,0]\n",
    "                                      ])\n",
    "b= np.array([-100,-200,-800,-100,-800,-1200])\n",
    "c = np.array([109,94.8,99.5,93.1,97.2,92.9,110,104,102,95.2])\n",
    "x1_cota = (0, None)\n",
    "x2_cota = (0, None)\n",
    "x3_cota = (0, None)\n",
    "x4_cota = (0, None)\n",
    "x5_cota = (0, None)\n",
    "x6_cota = (0, None)\n",
    "x7_cota = (0, None)\n",
    "x8_cota = (0, None)\n",
    "x9_cota = (0, None)\n",
    "x10_cota = (0, None)"
   ]
  },
  {
   "cell_type": "code",
   "execution_count": null,
   "metadata": {
    "collapsed": true
   },
   "outputs": [],
   "source": [
    "res_bonos = opt.linprog(c, A_ub=A, b_ub=b, bounds = (x1_cota,x2_cota,x3_cota,x4_cota,x5_cota,x6_cota,x7_cota,x8_cota,x9_cota,x10_cota))"
   ]
  }
 ],
 "metadata": {
  "kernelspec": {
   "display_name": "Python 3",
   "language": "python",
   "name": "python3"
  },
  "language_info": {
   "codemirror_mode": {
    "name": "ipython",
    "version": 3
   },
   "file_extension": ".py",
   "mimetype": "text/x-python",
   "name": "python",
   "nbconvert_exporter": "python",
   "pygments_lexer": "ipython3",
   "version": "3.6.3"
  }
 },
 "nbformat": 4,
 "nbformat_minor": 2
}
