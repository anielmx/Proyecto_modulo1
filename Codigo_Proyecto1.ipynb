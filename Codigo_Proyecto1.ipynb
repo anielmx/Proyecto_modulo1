{
 "cells": [
  {
   "cell_type": "markdown",
   "metadata": {},
   "source": [
    "# Analisis aplicado a la tasa de interés.\n",
    "## **El problema de igualación de efectivo.**"
   ]
  },
  {
   "cell_type": "markdown",
   "metadata": {},
   "source": [
    ">En la tabla inferior se muestra claramente el problema y su solución. \n",
    ">\n",
    ">Se muestran las corrientes de 10 diferentes bonos, año tras año, así como 10 columnas en el arreglo. El precio actual de cada bono está enlistado debajo de la corriente y la cantidad para ser incluida en un portafolio es enlistada debajo del precio de flujo de efectivo requerido para ser generado por el portafolio estan presentados en la penultima columna, y esos generados estan mostrados en la última columna.\n"
   ]
  },
  {
   "cell_type": "markdown",
   "metadata": {
    "collapsed": true
   },
   "source": [
    "|         \t|       \t|       \t|       \t|       \t|       \t| **BONOS**   \t|       \t|       \t|       \t|        \t|                 \t|              \t|\n",
    "|---------\t|-------\t|-------\t|-------\t|-------\t|-------\t|-------------\t|-------\t|-------\t|-------\t|--------\t|-----------------\t|--------------\t|\n",
    "| **AÑO** \t| **1** \t| **2** \t| **3** \t| **4** \t| **5** \t| **6**       \t| **7** \t| **8** \t| **9** \t| **10** \t| **_Requerido_** \t| **_Actual_** \t|\n",
    "|  **1**  \t|   10  \t|   7   \t|   8   \t|   6   \t|   7   \t|          5  \t|   10  \t|    8  \t|    7  \t|   100  \t|           100   \t|      171.74  \t|\n",
    "| **2**   \t|   10  \t|   7   \t|   8   \t|   6   \t|   7   \t|          5  \t|   10  \t|    8  \t|  107  \t|        \t|           200   \t|      200.00  \t|\n",
    "| **3**   \t|   10  \t|   7   \t|   8   \t|   6   \t|   7   \t|          5  \t|  110  \t|  108  \t|       \t|        \t|           800   \t|      800.00  \t|\n",
    "| **4**   \t|   10  \t|   7   \t|   8   \t|   6   \t|   7   \t|        105  \t|       \t|       \t|       \t|        \t|           100   \t|      119.34  \t|\n",
    "| **5**   \t|   10  \t|   7   \t|   8   \t|  106  \t|  107  \t|             \t|       \t|       \t|       \t|        \t|           800   \t|      800.00  \t|\n",
    "| **6**   \t|   110 \t|  107  \t|  108  \t|       \t|       \t|             \t|       \t|       \t|       \t|        \t|          1200   \t|    1,200.00  \t|\n",
    "| **_P_** \t|   109 \t|  94.8 \t|  99.5 \t|  93.1 \t|  97.2 \t|        92.9 \t|  110  \t|  104  \t|  102  \t|   95.2 \t|        2,381.14 \t|              \t|\n",
    "| **_X_** \t|    0  \t|  11.2 \t|    0  \t|  6.81 \t|    0  \t|          0  \t|    0  \t|   6.3 \t|  0.28 \t|     0  \t|        _Cost_   \t|              \t|"
   ]
  },
  {
   "cell_type": "markdown",
   "metadata": {
    "collapsed": true
   },
   "source": [
    ">Existe un error fundamental en el problema de la conciliación de efectivo formulado aquí, como lo demuestran los excedentes generados en nuestro ejemplo. \n",
    ">\n",
    ">Los excedentes equivalen a extra efectivo, que esencialmente se desecha ya que no se usa para cumplir obligaciones y no se reinvierte En realidad, dichos excedentes se reinvertirían inmediatamente en instrumentos\n",
    "que estaban disponibles en ese momento. Tal reinversión puede acomodarse mediante una ligera modificación de la formulación del problema, pero deben introducirse algunas suposiciones sobre la naturaleza de las futuras oportunidades de inversión. Lo más simple es suponer que el dinero extra puede llevarse adelante a cero interés; que puede, por así decirlo, colocarse debajo del colchón para ser recuperado cuando sea necesario. Esta flexibilidad es introducida por contiguo \"bonos\" artificiales que tienen flujos de efectivo de la forma (0, ,0,-1,1,0,0).\n",
    ">\n",
    ">Tal bono se \"compra\" en el año con el -1 (ya que absorbe efectivo) y se \"amortiza\" el año siguiente. Una formulación aún mejor permitiría invertir el excedente de efectivo en bonos reales, pero para incorporar esta característica se supone sobre los futuros intereses (o, lo que es equivalente, sobre los futuros precios de los bonos) debe hacerse Un enfoque lógico es suponer que los precios son inferiores a la dinámica de las expectativas en función de la curva de tasas spot actual\n",
    ">Entonces si r 'es la estimación de cuál será la tasa de interés de 1 año dentro de un año, que bajo la dinámica de expectativas es la tasa actual de torward 11.2, un enlace de la forma (0, - 1, 1 + r', 0 , 0) sería introducido. La adición de dichos bonos futuros permite reinvertir los excedentes, y esta adición dará lugar a una solución diferente a la solución simple de conciliación de efectivo dada anteriormente.\n",
    ">\n",
    ">Son posibles otras modificaciones al problema básico de la conciliación de efectivo, por ejemplo, si las sumas involucradas no son grandes, entonces se podría considerar la naturaleza entera de la solución requerida; es decir, las variables x pueden estar restringidas a ser enteros. Otras modificaciones combinan la inmunización con el cobro de efectivo"
   ]
  },
  {
   "cell_type": "code",
   "execution_count": null,
   "metadata": {
    "collapsed": true
   },
   "outputs": [],
   "source": []
  },
  {
   "cell_type": "code",
   "execution_count": 2,
   "metadata": {
    "collapsed": true
   },
   "outputs": [],
   "source": [
    "import numpy as np\n",
    "from scipy.optimize import linprog\n",
    "from numpy.linalg import solve\n",
    "import scipy.optimize as opt\n",
    "import matplotlib.pyplot as plt\n",
    "%matplotlib inline"
   ]
  },
  {
   "cell_type": "code",
   "execution_count": 3,
   "metadata": {
    "collapsed": true
   },
   "outputs": [],
   "source": [
    "A= np.array([\n",
    "             [-10,-7,-8,-6,-7,-5,-10,-8,-7,-100],\n",
    "             [-10,-7,-8,-6,-7,-5,-10,-8,-107,0],\n",
    "             [-10,-7,-8,-6,-7,-5,-110,-108,0,0],\n",
    "             [-10,-7,-8,-6,-7,-105,0,0,0,0],\n",
    "             [-10,-7,-8,-106,-107,0,0,0,0,0],\n",
    "             [-110,-107,-108,-0,0,0,0,0,0,0]\n",
    "                                      ])\n",
    "b= np.array([-100,-200,-800,-100,-800,-1200])\n",
    "c = np.array([109,94.8,99.5,93.1,97.2,92.9,110,104,102,95.2])\n",
    "x1_cota = (0, None)\n",
    "x2_cota = (0, None)\n",
    "x3_cota = (0, None)\n",
    "x4_cota = (0, None)\n",
    "x5_cota = (0, None)\n",
    "x6_cota = (0, None)\n",
    "x7_cota = (0, None)\n",
    "x8_cota = (0, None)\n",
    "x9_cota = (0, None)\n",
    "x10_cota = (0, None)"
   ]
  },
  {
   "cell_type": "code",
   "execution_count": 4,
   "metadata": {
    "collapsed": true
   },
   "outputs": [],
   "source": [
    "res_bonos = opt.linprog(c, A_ub=A, b_ub=b, bounds = (x1_cota,x2_cota,x3_cota,x4_cota,x5_cota,x6_cota,x7_cota,x8_cota,x9_cota,x10_cota))"
   ]
  },
  {
   "cell_type": "code",
   "execution_count": 5,
   "metadata": {},
   "outputs": [
    {
     "data": {
      "text/plain": [
       "     fun: 2381.1388298203824\n",
       " message: 'Optimization terminated successfully.'\n",
       "     nit: 9\n",
       "   slack: array([ 71.74111374,   0.        ,   0.        ,  19.34403104,\n",
       "         0.        ,   0.        ])\n",
       "  status: 0\n",
       " success: True\n",
       "       x: array([  0.        ,  11.21495327,   0.        ,   6.80655969,\n",
       "         0.        ,   0.        ,   0.        ,   6.30237008,\n",
       "         0.28258886,   0.        ])"
      ]
     },
     "execution_count": 5,
     "metadata": {},
     "output_type": "execute_result"
    }
   ],
   "source": []
  },
  {
   "cell_type": "code",
   "execution_count": null,
   "metadata": {
    "collapsed": true
   },
   "outputs": [],
   "source": []
  }
 ],
 "metadata": {
  "kernelspec": {
   "display_name": "Python 3",
   "language": "python",
   "name": "python3"
  },
  "language_info": {
   "codemirror_mode": {
    "name": "ipython",
    "version": 3
   },
   "file_extension": ".py",
   "mimetype": "text/x-python",
   "name": "python",
   "nbconvert_exporter": "python",
   "pygments_lexer": "ipython3",
   "version": "3.6.3"
  }
 },
 "nbformat": 4,
 "nbformat_minor": 2
}
